{
 "cells": [
  {
   "cell_type": "code",
   "execution_count": 148,
   "id": "c769afd7",
   "metadata": {},
   "outputs": [],
   "source": [
    "import pandas as pd\n",
    "import numpy as np\n",
    "import tensorflow as tf\n",
    "from sklearn.preprocessing import OneHotEncoder\n",
    "\n",
    "from tensorflow.keras import layers, activations\n",
    "from tensorflow import keras"
   ]
  },
  {
   "cell_type": "code",
   "execution_count": 116,
   "id": "36e63d08",
   "metadata": {},
   "outputs": [],
   "source": [
    "from scipy.io import arff"
   ]
  },
  {
   "cell_type": "code",
   "execution_count": 190,
   "id": "4462f213",
   "metadata": {},
   "outputs": [],
   "source": [
    "df = pd.read_csv('datasets/public/heloc.csv')"
   ]
  },
  {
   "cell_type": "code",
   "execution_count": 186,
   "id": "eaef61a3",
   "metadata": {},
   "outputs": [],
   "source": [
    "df['RiskPerformance'] = df['RiskPerformance'].replace({'Bad':0, 'Good':1})"
   ]
  },
  {
   "cell_type": "code",
   "execution_count": 184,
   "id": "1b020c7c",
   "metadata": {},
   "outputs": [
    {
     "data": {
      "text/plain": [
       "(9861, 24)"
      ]
     },
     "execution_count": 184,
     "metadata": {},
     "output_type": "execute_result"
    }
   ],
   "source": [
    "df.shape"
   ]
  },
  {
   "cell_type": "code",
   "execution_count": 173,
   "id": "93ceefe6",
   "metadata": {},
   "outputs": [],
   "source": [
    "num_df = df.drop(['MaxDelq2PublicRecLast12M', 'MaxDelqEver'], axis=1).replace({-9:np.nan, -8:0, -7:0}).dropna()"
   ]
  },
  {
   "cell_type": "code",
   "execution_count": 180,
   "id": "5f6f1a90",
   "metadata": {},
   "outputs": [],
   "source": [
    "df = num_df.join(df[['MaxDelq2PublicRecLast12M', 'MaxDelqEver']])"
   ]
  },
  {
   "cell_type": "code",
   "execution_count": 189,
   "id": "9f45cacf",
   "metadata": {},
   "outputs": [],
   "source": [
    "df.to_csv('datasets/public/heloc.csv', index=False)"
   ]
  },
  {
   "cell_type": "code",
   "execution_count": null,
   "id": "6316538a",
   "metadata": {},
   "outputs": [],
   "source": []
  }
 ],
 "metadata": {
  "kernelspec": {
   "display_name": "Python 3 (ipykernel)",
   "language": "python",
   "name": "python3"
  },
  "language_info": {
   "codemirror_mode": {
    "name": "ipython",
    "version": 3
   },
   "file_extension": ".py",
   "mimetype": "text/x-python",
   "name": "python",
   "nbconvert_exporter": "python",
   "pygments_lexer": "ipython3",
   "version": "3.9.0"
  }
 },
 "nbformat": 4,
 "nbformat_minor": 5
}
