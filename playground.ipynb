{
 "cells": [
  {
   "cell_type": "code",
   "execution_count": 86,
   "id": "d3c74ae0",
   "metadata": {},
   "outputs": [
    {
     "name": "stderr",
     "output_type": "stream",
     "text": [
      "2023-04-15 15:44:20.735287: I tensorflow/stream_executor/platform/default/dso_loader.cc:49] Successfully opened dynamic library libcudart.so.10.1\n"
     ]
    }
   ],
   "source": [
    "import numpy as np\n",
    "import pickle\n",
    "import os\n",
    "\n",
    "\n",
    "\n",
    "from utilities.dataset import distribution_data_sampler\n",
    "from utilities import constants\n",
    "\n",
    "\n",
    "from utilities.custom_layers import BaseEncoder, BaseDecoder\n",
    "\n",
    "import tensorflow as tf\n",
    "from tensorflow import keras\n",
    "from tensorflow.keras import layers\n",
    "\n",
    "n_samples = 10000"
   ]
  },
  {
   "cell_type": "markdown",
   "id": "2cc31f10",
   "metadata": {},
   "source": [
    "# Loss function"
   ]
  },
  {
   "cell_type": "code",
   "execution_count": 2,
   "id": "5dc2be0a",
   "metadata": {},
   "outputs": [],
   "source": [
    "from itertools import product"
   ]
  },
  {
   "cell_type": "code",
   "execution_count": 64,
   "id": "db35b46c",
   "metadata": {},
   "outputs": [],
   "source": [
    "def exp_func(array, e_b):\n",
    "    summ = 0\n",
    "    for i, b in enumerate(array):\n",
    "        summ += 2**(len(array)-1-i)*int(b)\n",
    "    return  summ - e_b\n",
    "\n",
    "def mant_func(array, e):\n",
    "    summ = int(any((int(x) for x in e)))\n",
    "    for i, b in enumerate(array, start=1):\n",
    "        summ += 2**(-i)*int(b)\n",
    "    return summ\n",
    "\n",
    "def float_from_str(s, e ,m, e_b):\n",
    "    sign_val = (-1)**int(s)\n",
    "    exp_val =   exp_func(e, e_b)\n",
    "    mant_val = mant_func(m, e)\n",
    "    float_val = sign_val * 2**exp_val * mant_val\n",
    "    return float_val, sign_val, exp_val, mant_val"
   ]
  },
  {
   "cell_type": "code",
   "execution_count": 121,
   "id": "f183e84f",
   "metadata": {},
   "outputs": [
    {
     "data": {
      "text/plain": [
       "array([-3.5, -3. , -2.5, -2. , -1.5, -1. , -0.5,  0. ,  0.5,  1. ,  1.5,\n",
       "        2. ,  2.5,  3. ,  3.5])"
      ]
     },
     "execution_count": 121,
     "metadata": {},
     "output_type": "execute_result"
    }
   ],
   "source": [
    "x = (np.arange(15)-7)/2\n",
    "x"
   ]
  },
  {
   "cell_type": "code",
   "execution_count": 132,
   "id": "e0caafc8",
   "metadata": {},
   "outputs": [
    {
     "data": {
      "text/plain": [
       "array([0.4])"
      ]
     },
     "execution_count": 132,
     "metadata": {},
     "output_type": "execute_result"
    }
   ],
   "source": [
    "np.ldexp(np.array([0.2]), np.array([1]))"
   ]
  },
  {
   "cell_type": "code",
   "execution_count": 123,
   "id": "b6d2d54c",
   "metadata": {},
   "outputs": [
    {
     "data": {
      "text/plain": [
       "(array([-0.875, -0.75 , -0.625, -0.5  , -0.75 , -0.5  , -0.5  ,  0.   ,\n",
       "         0.5  ,  0.5  ,  0.75 ,  0.5  ,  0.625,  0.75 ,  0.875]),\n",
       " array([2, 2, 2, 2, 1, 1, 0, 0, 0, 1, 1, 2, 2, 2, 2], dtype=int32))"
      ]
     },
     "execution_count": 123,
     "metadata": {},
     "output_type": "execute_result"
    }
   ],
   "source": [
    "np.frexp(x)"
   ]
  },
  {
   "cell_type": "code",
   "execution_count": 111,
   "id": "47f00b96",
   "metadata": {},
   "outputs": [
    {
     "data": {
      "text/plain": [
       "[7.992, 3.996, 1.998, 0.999]"
      ]
     },
     "execution_count": 111,
     "metadata": {},
     "output_type": "execute_result"
    }
   ],
   "source": [
    "[2**x*(0.999) for x in range(4)][::-1]"
   ]
  },
  {
   "cell_type": "code",
   "execution_count": 106,
   "id": "1de7deab",
   "metadata": {},
   "outputs": [
    {
     "data": {
      "text/plain": [
       "[-7, -6, -5, -4, -3, -2, -1, 0, 1, 2, 3, 4, 5, 6, 7, 8]"
      ]
     },
     "execution_count": 106,
     "metadata": {},
     "output_type": "execute_result"
    }
   ],
   "source": [
    "[x-7 for x in (range(0, 16))]"
   ]
  },
  {
   "cell_type": "code",
   "execution_count": 91,
   "id": "0906ef59",
   "metadata": {},
   "outputs": [
    {
     "data": {
      "text/plain": [
       "array([1.00069339, 1.00109917, 1.00174262, 1.00276328, 1.00438304,\n",
       "       1.00695555, 1.01104621, 1.01756353, 1.02797895, 1.04470509,\n",
       "       1.07177346, 1.11611781, 1.19018731, 1.31777784, 1.54859227,\n",
       "       2.        ])"
      ]
     },
     "execution_count": 91,
     "metadata": {},
     "output_type": "execute_result"
    }
   ],
   "source": [
    "2**np.geomspace(0.001, 1, 16)"
   ]
  },
  {
   "cell_type": "code",
   "execution_count": 84,
   "id": "8a97519e",
   "metadata": {
    "scrolled": false
   },
   "outputs": [
    {
     "name": "stdout",
     "output_type": "stream",
     "text": [
      "0 00 0     0.0\n",
      "0 00 1     0.25\n",
      "0 01 0     1.0\n",
      "0 01 1     1.5\n",
      "0 10 0     2.0\n",
      "0 10 1     3.0\n",
      "0 11 0     4.0\n",
      "0 11 1     6.0\n",
      "1 00 0     -0.0\n",
      "1 00 1     -0.25\n",
      "1 01 0     -1.0\n",
      "1 01 1     -1.5\n",
      "1 10 0     -2.0\n",
      "1 10 1     -3.0\n",
      "1 11 0     -4.0\n",
      "1 11 1     -6.0\n"
     ]
    }
   ],
   "source": [
    "bool_array = [0, 1]\n",
    "exp = 2\n",
    "mant = 1\n",
    "sign = 1\n",
    "exp_bias = 2**(exp-1)-1\n",
    "\n",
    "tuple_to_str = lambda x: ''.join(map(str, (x)))\n",
    "\n",
    "for tup in product('01', repeat=exp + mant + sign):\n",
    "    s = tup[0]\n",
    "    e = tup[1:exp+1]\n",
    "    m = tup[-mant:]\n",
    "    float_val, sign_val, exp_val, mant_val = float_from_str(s, e, m, exp_bias)\n",
    "    \n",
    "    print(f'{s} {tuple_to_str(e)} {tuple_to_str(m):<5} {float_val}')\n",
    "#     print(f'{sign_val} {exp_val:<4} {mant_val}')"
   ]
  },
  {
   "cell_type": "code",
   "execution_count": null,
   "id": "bd306c01",
   "metadata": {},
   "outputs": [],
   "source": [
    "bool_array = [0, 1]\n",
    "for s in bool_array:\n",
    "    for e2 in bool_array:\n",
    "        for e1 in bool_array:\n",
    "            for m in bool_array:\n",
    "                val = (-1)**s * (2**(2*e2 + 1*e1 )+ 1) * (1 + m*1/2)\n"
   ]
  },
  {
   "cell_type": "code",
   "execution_count": null,
   "id": "964e5e17",
   "metadata": {},
   "outputs": [],
   "source": [
    "y = np.array([8, 8, 8, 8, 8, 8, 8, 8, \n",
    "              32, 32, 32, 32, 32, 32, 32, 32,\n",
    "              512, 512, 512, 512, 512, 512, 512, 512]).reshape(-1, 1)\n",
    "\n",
    "y_hat = np.array([8, 16, -8, -16, 8.125, 16.25, -8.125, -16.25,\n",
    "                  32, 64, -32, -64, 32.5, 65, -32.5, -65, \n",
    "                  512, 1024, -512, -1024, 520, 1040, -520, -1040]).reshape(-1, 1)\n",
    "\n",
    "\n",
    "# y = np.array([1, 2, 4, 8, 16]).reshape(-1, 1)\n",
    "\n",
    "# y_hat = np.array([0.5, 1, 2, 4, 8]).reshape(-1, 1)\n",
    "\n",
    "be_layer = BaseEncoder()\n",
    "\n",
    "y_be = be_layer(y).numpy()\n",
    "y_hat_be = be_layer(y_hat).numpy()\n",
    "y_hat_be_raw = y_hat_be.copy()\n",
    "np.set_printoptions(suppress=True)\n",
    "np.place(y_hat_be, y_hat_be == 1, 0.999999)\n",
    "np.place(y_hat_be, y_hat_be == 0, 0.000001)"
   ]
  },
  {
   "cell_type": "code",
   "execution_count": null,
   "id": "60a2945d",
   "metadata": {},
   "outputs": [],
   "source": [
    "def bce(y_be, y_hat):\n",
    "    return np.multiply(y_be, np.log(y_hat)) + np.multiply(1 - y_be, np.log(1 - y_hat))"
   ]
  },
  {
   "cell_type": "code",
   "execution_count": null,
   "id": "fdaab0a1",
   "metadata": {},
   "outputs": [],
   "source": [
    "def bece_func(y_be, y_hat, y_sign, y_hat_sign):\n",
    "    y_sign = np.multiply(np.ones(y_be.shape), y_sign)\n",
    "    y_hat_sign = np.multiply(np.ones(y_hat.shape), y_hat_sign)\n",
    "\n",
    "    neg_one = np.multiply(np.multiply(y_be, y_sign), np.log(np.multiply(y_hat, y_hat_sign)))\n",
    "    pos_one = np.multiply(np.multiply(y_be, (1 - y_sign)), np.log(np.multiply(y_hat,(1 - y_hat_sign))))\n",
    "##################### do not uncomment - it makes the loss equally disregard of its value \n",
    "##################### loss(512, -512)= loss(8, -8)\n",
    "#     neg_zero = np.multiply(np.multiply(1 - y_be, y_sign), np.log(np.multiply(1 - y_hat, y_hat_sign)))\n",
    "#     pos_zero = np.multiply(np.multiply(1 - y_be, (1 - y_sign)), np.log(np.multiply(1 - y_hat,(1 - y_hat_sign))))\n",
    "#     return -(neg_zero + pos_zero + neg_one + pos_one)\n",
    "#####################\n",
    "    zeros = np.multiply(1 - y_be, np.log(1 - y_hat))\n",
    "    return -(zeros + neg_one + pos_one)\n"
   ]
  },
  {
   "cell_type": "code",
   "execution_count": null,
   "id": "86b24e43",
   "metadata": {},
   "outputs": [],
   "source": [
    "def preprocess(y, y_hat):\n",
    "    be_layer = BaseEncoder()\n",
    "\n",
    "    y_be = be_layer(y).numpy()\n",
    "    y_hat_be = be_layer(y_hat).numpy()\n",
    "\n",
    "    np.place(y_hat_be, y_hat_be == 1, 0.999999)\n",
    "    np.place(y_hat_be, y_hat_be == 0, 0.000001)\n",
    "    \n",
    "    return y_be, y_hat_be"
   ]
  },
  {
   "cell_type": "code",
   "execution_count": null,
   "id": "204eb816",
   "metadata": {},
   "outputs": [],
   "source": [
    "def new_loss_func(y, y_hat):\n",
    "    y_mant = y[:, :, 9:]\n",
    "    y_exp = y[:, :, 1:9]\n",
    "    y_sign = y[:, :, :1]\n",
    "\n",
    "\n",
    "    y_hat_mant = y_hat[:, :, 9:]\n",
    "    y_hat_exp = y_hat[:, :, 1:9]\n",
    "    y_hat_sign = y_hat[:, :, :1]\n",
    "    \n",
    "    mantissa_coefs = (np.ones((y_mant.shape[0], y_mant.shape[1], 1))*2)**((np.arange(-11, 12)[::-1]).reshape(1, -1))\n",
    "    mantissa_bce = bce(y_mant, y_hat_mant)\n",
    "    mantissa_part = (1 + np.multiply(mantissa_coefs, mantissa_bece)).sum(axis=-1)\n",
    "\n",
    "\n",
    "    exponent_coefs = (np.ones((y_exp.shape[0], y_exp.shape[1], 1))*2)**((np.arange(1, 9))[::-1].reshape(1, -1))\n",
    "    exponent_bece = bece_func(y_exp, y_hat_exp, y_sign, y_hat_sign)\n",
    "    exponent_part = np.multiply(exponent_coefs, exponent_bece).sum(axis=-1) \n",
    "    "
   ]
  },
  {
   "cell_type": "code",
   "execution_count": null,
   "id": "0299166a",
   "metadata": {},
   "outputs": [],
   "source": [
    "y_mant = y_be[:, :, 9:]\n",
    "y_hat_mant = y_hat_be[:, :, 9:]\n",
    "\n",
    "y_sign = y_be[:, :, :1]\n",
    "y_hat_sign = y_hat_be[:, :, :1]"
   ]
  },
  {
   "cell_type": "code",
   "execution_count": null,
   "id": "054f6da8",
   "metadata": {},
   "outputs": [],
   "source": [
    "mantissa_bece = bce(y_mant, y_hat_mant)\n",
    "mantissa_coefs = (np.ones((y_mant.shape[0], y_mant.shape[1], 1))*2)**-((np.arange(1, 24)[::-1]).reshape(1, -1))\n",
    "mantissa_part = (1 - np.multiply(mantissa_bece, mantissa_coefs).sum(axis=-1))"
   ]
  },
  {
   "cell_type": "code",
   "execution_count": null,
   "id": "944ebc46",
   "metadata": {},
   "outputs": [],
   "source": [
    "y_exp = y_be[:, :, 1:9]\n",
    "y_hat_exp = y_hat_be[:, :, 1:9]"
   ]
  },
  {
   "cell_type": "code",
   "execution_count": null,
   "id": "e205d6a1",
   "metadata": {},
   "outputs": [],
   "source": [
    "exponent_coefs = (np.ones((y_exp.shape[0], y_exp.shape[1], 1))*2)**((np.arange(1, 9))[::-1].reshape(1, -1))\n",
    "exponent_bce = bece_func(y_exp, y_hat_exp, y_sign, y_hat_sign)\n",
    "exponent_part = np.multiply(exponent_coefs, exponent_bce).sum(axis=-1) "
   ]
  },
  {
   "cell_type": "code",
   "execution_count": null,
   "id": "253dd56e",
   "metadata": {},
   "outputs": [],
   "source": [
    "new_loss = np.log2(exponent_part) + np.log2(mantissa_part)"
   ]
  },
  {
   "cell_type": "code",
   "execution_count": null,
   "id": "254b15d9",
   "metadata": {},
   "outputs": [],
   "source": [
    "def loss_func(y, y_hat):\n",
    "    \n",
    "    y_mant = y[:, :, 9:]\n",
    "    y_exp = y[:, :, 1:9]\n",
    "    y_sign = y[:, :, :1]\n",
    "\n",
    "\n",
    "    y_hat_mant = y_hat[:, :, 9:]\n",
    "    y_hat_exp = y_hat[:, :, 1:9]\n",
    "    y_hat_sign = y_hat[:, :, :1]\n",
    "    \n",
    "    \n",
    "#     mantissa_coefs = (np.ones((y_mant.shape[0], y_mant.shape[1], 1))*2)**-((np.arange(0, 23)).reshape(1, -1))\n",
    "    mantissa_coefs = (np.ones((y_mant.shape[0], y_mant.shape[1], 1))*2)**((np.arange(-11, 12)[::-1]).reshape(1, -1))\n",
    "    mantissa_bece = bece_func(y_mant, y_hat_mant, y_sign, y_hat_sign)\n",
    "    mantissa_part = np.log2(np.multiply(mantissa_coefs, mantissa_bece).sum(axis=-1))\n",
    "#     mantissa_part = (1 + np.multiply(mantissa_coefs, mantissa_bece)).sum(axis=-1)\n",
    "\n",
    "\n",
    "    exponent_coefs = (np.ones((y_exp.shape[0], y_exp.shape[1], 1))*2)**((np.arange(1, 9))[::-1].reshape(1, -1))\n",
    "    exponent_bece = bece_func(y_exp, y_hat_exp, y_sign, y_hat_sign)\n",
    "    exponent_part = np.multiply(exponent_coefs, exponent_bece).sum(axis=-1) \n",
    "    \n",
    "    return exponent_part, mantissa_part "
   ]
  },
  {
   "cell_type": "code",
   "execution_count": null,
   "id": "d21782e8",
   "metadata": {},
   "outputs": [],
   "source": [
    "# exponent_part, mantissa_part = loss_func(y_be, y_hat_be)\n",
    "# final_loss = exponent_part + mantissa_part\n",
    "df = pd.DataFrame(np.concatenate((y, y_hat, (np.abs(y_be - y_hat_be_raw)).sum(axis=-1),((y - y_hat)**2).astype(np.float32), exponent_part, mantissa_part, new_loss), axis=-1), \n",
    "             columns=['y', 'y_hat', 'binary diff number', 'mse', 'exponent part', 'mantissa part', 'new loss'])"
   ]
  },
  {
   "cell_type": "code",
   "execution_count": null,
   "id": "ccc7a61b",
   "metadata": {},
   "outputs": [],
   "source": [
    "df.sort_values(\"new loss\")"
   ]
  },
  {
   "cell_type": "code",
   "execution_count": null,
   "id": "ff2fa50c",
   "metadata": {},
   "outputs": [],
   "source": []
  }
 ],
 "metadata": {
  "kernelspec": {
   "display_name": "Python 3 (ipykernel)",
   "language": "python",
   "name": "python3"
  },
  "language_info": {
   "codemirror_mode": {
    "name": "ipython",
    "version": 3
   },
   "file_extension": ".py",
   "mimetype": "text/x-python",
   "name": "python",
   "nbconvert_exporter": "python",
   "pygments_lexer": "ipython3",
   "version": "3.9.0"
  },
  "vscode": {
   "interpreter": {
    "hash": "297bf4bee63c4bb30adc63da2b0c70528b1617d3c971c2df8eff2017a8637c67"
   }
  }
 },
 "nbformat": 4,
 "nbformat_minor": 5
}
