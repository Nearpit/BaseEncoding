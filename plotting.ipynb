{
 "cells": [
  {
   "cell_type": "code",
   "execution_count": 1,
   "id": "d3c74ae0",
   "metadata": {},
   "outputs": [],
   "source": [
    "import matplotlib.pyplot as plt\n",
    "import numpy as np\n",
    "import pickle \n",
    "import pandas as pd"
   ]
  },
  {
   "cell_type": "code",
   "execution_count": 2,
   "id": "fe470a27",
   "metadata": {},
   "outputs": [],
   "source": [
    "x_array = ['x_normal', 'x_exponential', 'x_lognormal']\n",
    "y_array = ['y_normal', 'y_exponential', 'y_lognormal']"
   ]
  },
  {
   "cell_type": "code",
   "execution_count": 3,
   "id": "eda80b42",
   "metadata": {},
   "outputs": [],
   "source": [
    "# fig, ax = plt.subplots(len(x_array), len(y_array), figsize=(16, 9))\n",
    "# fig.tight_layout()\n",
    "\n",
    "\n",
    "# activation = activation=keras.activations.relu\n",
    "\n",
    "\n",
    "# for idx, x_name in enumerate(x_array):\n",
    "#     for idy, y_name in enumerate(y_array):\n",
    "#         cur_x, cur_y = eval(x_name), eval(y_name)\n",
    "        \n",
    "\n",
    "#         for name_transformation, func_transformation in tranformations.items():\n",
    "#             transformed_x = func_transformation(cur_x)\n",
    "#             try:\n",
    "#                 model = MLP(transformed_x.shape[1], 1, 1024, depth=2, activation=activation)\n",
    "#                 model.compile(optimizer=keras.optimizers.Adam(learning_rate=1e-4), loss='mse')\n",
    "#                 model.fit(transformed_x, cur_y, epochs=1000, verbose=0)\n",
    "#                 y_hat = model.predict(transformed_x)\n",
    "#                 score = mse(y_hat, cur_y)\n",
    "#                 print(f\"{score} : {name_transformation}\")\n",
    "#                 ax[idx, idy].plot(cur_x, y_hat, '-', alpha=0.7, linewidth=3, label=f'{score:0.3f} : {name_transformation}')\n",
    "#             except:\n",
    "#                 print(name_transformation, 'NANS')\n",
    "\n",
    "\n",
    "#         ax[idx, idy].scatter(cur_x, cur_y, c='black', marker='x', label=f'Ground Truth', s=10)\n",
    "\n",
    "#         ax[idx, idy].set_title(f'{x_name}/{y_name}')\n",
    "#         ax[idx, idy].legend()\n",
    "# plt.suptitle('MLP', y=1.02)\n",
    "# plt.show()"
   ]
  },
  {
   "cell_type": "code",
   "execution_count": 4,
   "id": "36d777eb",
   "metadata": {},
   "outputs": [],
   "source": [
    "with open('results/results_experiment1_1500epochs.pkl', 'rb') as f:\n",
    "    x = pickle.load(f)"
   ]
  },
  {
   "cell_type": "code",
   "execution_count": 5,
   "id": "6695a353",
   "metadata": {},
   "outputs": [],
   "source": [
    "df = pd.json_normalize(x)\n",
    "seed_n = 5\n",
    "epochs = 1500"
   ]
  },
  {
   "cell_type": "code",
   "execution_count": 7,
   "id": "521de2d8",
   "metadata": {
    "scrolled": true
   },
   "outputs": [],
   "source": [
    "x_array = ['x_normal', 'x_exponential']\n",
    "y_array = ['y_normal', 'y_exponential']\n",
    "base_array = [2, 4, 8, 16, 32, 36]\n",
    "params = np.array(['norm', 'encode_sign','only_integers'])\n",
    "slice_from = 0\n",
    "func = np.log2\n",
    "baselines = ['intact', 'standardization']\n",
    "mean \n",
    "\n",
    "for x in x_array:\n",
    "    for y in y_array:\n",
    "        for base in base_array:\n",
    "            mask = (df['x']==x)&(df['y']==y)\n",
    "            ne = df[mask&(df['params.base']==base)]\n",
    "            intact = np.array(df[mask&(df['transformation_name']==\"intact\")][\"history.loss\"].to_list())\n",
    "            standardization = np.array(df[mask&(df['transformation_name']==\"standardization\")][\"history.loss\"].to_list())\n",
    "            for check_difference in params:\n",
    "                left = params[params != check_difference]\n",
    "                linewidth = 0.9\n",
    "                fig, ax = plt.subplots(2, 2, figsize=(16,10))\n",
    "                for idy, left_0 in enumerate([False, True]):\n",
    "                    for idx, left_1 in enumerate([False, True]):\n",
    "                        for loss in baselines:\n",
    "                            ax[idy, idx].plot(func(eval(f'{loss}.mean(axis=0)')[slice_from:]), label=loss, alpha=0.2, linewidth=linewidth)\n",
    "                        loss_0 = func(np.array(ne[(ne[f'params.{left[0]}']==left_0)&(ne[f'params.{left[1]}']==left_1)&(ne[f'params.{check_difference}']==False)]['history.loss'].to_list()).mean(axis=0)[slice_from:])\n",
    "                        loss_1 = func(np.array(ne[(ne[f'params.{left[0]}']==left_0)&(ne[f'params.{left[1]}']==left_1)&(ne[f'params.{check_difference}']==True)]['history.loss'].to_list()).mean(axis=0)[slice_from:])\n",
    "                        ax[idy, idx].plot(loss_0, '-', label=f'{check_difference}=False', linewidth=linewidth-0.2, alpha=0.8)\n",
    "                        ax[idy, idx].plot(loss_1, '-', label=f'{check_difference}=True', linewidth=linewidth-0.2, alpha=0.8)\n",
    "                        xticks = list(range(0, len(loss_0)+1, 100))\n",
    "                        ax[idy, idx].set_xticks(xticks, labels=list(range(slice_from, len(loss_0)+slice_from+1, 100)))\n",
    "\n",
    "                plt.suptitle(f'{x}/{y} base {base}')\n",
    "                plt.legend()\n",
    "                ax[0, 0].set_ylabel(f\"{left[0]}=False\")\n",
    "                ax[1, 0].set_ylabel(f\"{left[0]}=True\")\n",
    "                ax[0, 0].xaxis.set_label_position('top')\n",
    "                ax[0, 1].xaxis.set_label_position('top')\n",
    "\n",
    "                ax[0, 0].set_xlabel(f\"{left[1]}=False\")\n",
    "                ax[0, 1].set_xlabel(f\"{left[1]}=True\")\n",
    "                ax[1, 1].legend(bbox_to_anchor=(1.1, 1.05))\n",
    "\n",
    "                plt.savefig(f'plots/{x}_{y}/base_{base}_{check_difference}.png')\n",
    "                plt.close()"
   ]
  },
  {
   "cell_type": "code",
   "execution_count": 56,
   "id": "75496105",
   "metadata": {
    "scrolled": false
   },
   "outputs": [],
   "source": [
    "bools = [True, False]\n",
    "linewidth = 2\n",
    "baseline_step = 5\n",
    "\n",
    "for x in x_array:\n",
    "    for y in y_array:\n",
    "        mask = (df['x']==x)&(df['y']==y)\n",
    "        ne = df[mask&(df['params.base']!=10)]\n",
    "        intact = np.array(df[mask&(df['transformation_name']==\"intact\")][\"history.loss\"].to_list())\n",
    "        standardization = np.array(df[mask&(df['transformation_name']==\"standardization\")][\"history.loss\"].to_list())\n",
    "        for norm in bools:\n",
    "            for encode_sign in bools:\n",
    "                for only_integers in bools:\n",
    "                    fig, ax = plt.subplots(1, 1, figsize=(16,10))\n",
    "\n",
    "                    # Baseline plotting\n",
    "                    for loss, c, m in zip(baselines, ['0.4', '0.2'], ['o', '^']):\n",
    "                        ax.plot(func(eval(f'{loss}.mean(axis=0)')[slice_from::baseline_step]), m, c=c, label=loss, linewidth=linewidth/1.1)\n",
    "                    # Different bases\n",
    "                    color = iter(plt.cm.summer(np.linspace(0, 1, len(base_array))))\n",
    "\n",
    "                    for base in base_array:\n",
    "                        c = next(color)\n",
    "                        loss_0 = func(np.array(ne[(ne['params.base']==base)&(ne['params.norm']==norm)&(ne['params.encode_sign']==encode_sign)&(ne['params.only_integers']==only_integers)]['history.loss'].to_list()).mean(axis=0)[slice_from:])\n",
    "                        ax.plot(loss_0, '-', label=f'base {base}',c=c, linewidth=linewidth-0.2, alpha=0.8)\n",
    "                        xticks = list(range(0, len(loss_0)+1, 100))\n",
    "                        ax.set_xticks(xticks, labels=list(range(slice_from, len(loss_0)+slice_from+1, 100)))\n",
    "               \n",
    "\n",
    "                        plt.suptitle(f'{x}/{y} norm {norm} encode_sign {encode_sign} only_integers {only_integers}')               \n",
    "                    ax.legend(bbox_to_anchor=(1.1, 1.05))\n",
    "                    ax.set_ylabel(f\"{func.__name__} of MSE\")\n",
    "                    ax.set_xlabel(f\"Epochs\")\n",
    "                    plt.savefig(f'plots/{x}_{y}/base_comparison/{norm}_{encode_sign}_{only_integers}.png')\n",
    "                    plt.close()"
   ]
  },
  {
   "cell_type": "code",
   "execution_count": 23,
   "id": "be21ffe4",
   "metadata": {},
   "outputs": [
    {
     "data": {
      "text/plain": [
       "'log2'"
      ]
     },
     "execution_count": 23,
     "metadata": {},
     "output_type": "execute_result"
    }
   ],
   "source": []
  },
  {
   "cell_type": "code",
   "execution_count": null,
   "id": "f2d7b624",
   "metadata": {},
   "outputs": [],
   "source": []
  }
 ],
 "metadata": {
  "kernelspec": {
   "display_name": "Python 3 (ipykernel)",
   "language": "python",
   "name": "python3"
  },
  "language_info": {
   "codemirror_mode": {
    "name": "ipython",
    "version": 3
   },
   "file_extension": ".py",
   "mimetype": "text/x-python",
   "name": "python",
   "nbconvert_exporter": "python",
   "pygments_lexer": "ipython3",
   "version": "3.9.16"
  },
  "vscode": {
   "interpreter": {
    "hash": "297bf4bee63c4bb30adc63da2b0c70528b1617d3c971c2df8eff2017a8637c67"
   }
  }
 },
 "nbformat": 4,
 "nbformat_minor": 5
}
